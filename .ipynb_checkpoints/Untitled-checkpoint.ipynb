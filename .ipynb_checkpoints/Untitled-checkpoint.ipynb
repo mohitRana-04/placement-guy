{
 "cells": [
  {
   "cell_type": "code",
   "execution_count": null,
   "id": "460f9ec9",
   "metadata": {},
   "outputs": [],
   "source": [
    "import cv2 as cv2\n",
    "import numpy as np\n",
    "from skimage.feature import hog\n",
    "from skimage import exposure\n",
    "import matplotlib.pyplot as plt\n",
    "\n",
    "# Load an example image (replace with your image path)\n",
    "\n",
    "image_path =  r'C:\\Users\\mohit\\Desktop\\placement-guy\\download (2).jpeg'\n",
    "image = cv2.imread(image_path)\n",
    "image = cv2.cvtColor(image, cv2.COLOR_BGR2RGB) # Convert BGR to RGB\n",
    "\n",
    "# HOG parameters\n",
    "orientations = 9\n",
    "\n",
    "pixels_per_cell = (8, 8)\n",
    "# normalised kar diya block ko\n",
    "cells_per_block = (2, 2)\n",
    "\n",
    "# Convert image to grayscale for HOG calculation\n",
    "gray_image = cv2.cvtColor(image, cv2.COLOR_RGB2GRAY)\n",
    "\n",
    "# Perform HOG feature extraction\n",
    "hog_features, hog_image = hog(gray_image, orientations=orientations, \n",
    "pixels_per_cell=pixels_per_cell, cells_per_block=cells_per_block, visualize=True)\n",
    "\n",
    "\n",
    "# Plot the original image and HOG image\n",
    "fig, (ax1, ax2) = plt.subplots(1, 2, figsize=(12, 6))\n",
    "\n",
    "ax1.imshow(image)\n",
    "ax1.set_title('Original Image')\n",
    "ax1.axis('off')\n",
    "\n",
    "ax2.imshow(hog_image, cmap=plt.cm.gray)\n",
    "ax2.set_title('HOG Image')\n",
    "ax2.axis('off')\n",
    "\n",
    "plt.show()"
   ]
  }
 ],
 "metadata": {
  "kernelspec": {
   "display_name": "Python 3 (ipykernel)",
   "language": "python",
   "name": "python3"
  },
  "language_info": {
   "codemirror_mode": {
    "name": "ipython",
    "version": 3
   },
   "file_extension": ".py",
   "mimetype": "text/x-python",
   "name": "python",
   "nbconvert_exporter": "python",
   "pygments_lexer": "ipython3",
   "version": "3.9.12"
  }
 },
 "nbformat": 4,
 "nbformat_minor": 5
}
